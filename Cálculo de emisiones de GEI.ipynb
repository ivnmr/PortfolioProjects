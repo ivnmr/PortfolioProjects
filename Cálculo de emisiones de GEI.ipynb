{
 "cells": [
  {
   "cell_type": "markdown",
   "id": "fafe44e7",
   "metadata": {},
   "source": [
    "# Cálculo de emisiones de gases de efecto invernadero en el hogar\n",
    "## Utilizando datos de consumo de electricidad y de gas natural obtenidos de recibos de CFE y Engie\n",
    "### Autor: Iván Molar Rochín \n",
    "### Fecha: Diciembre 2023"
   ]
  },
  {
   "cell_type": "markdown",
   "id": "fef43fe3",
   "metadata": {},
   "source": [
    "#### Definimos el periodo de tiempo que utilizaremos\n",
    "El cálculo se realizará desde el 1 de enero de 2023 hasta el 30 de octubre de 2023. Esto porque quiero mostrar las emsiones a partir de esta año hasta la fecha en que tengo datos disponibles. "
   ]
  },
  {
   "cell_type": "code",
   "execution_count": 38,
   "id": "66fc512d",
   "metadata": {},
   "outputs": [],
   "source": [
    "# Primero importamos Pandas para poder crear nuestra tabla\n",
    "import pandas as pd"
   ]
  },
  {
   "cell_type": "markdown",
   "id": "acb06f61",
   "metadata": {},
   "source": [
    "#### Obtención de datos de electricidad\n",
    "Lo único que tuve que hacer fue revisar los recibos de CFE y dado que son bimestrales, tuve identificar la cantidad en kWh del periodo, dividir entre el número de días del periodo y calcular su correspondiente según el mes."
   ]
  },
  {
   "cell_type": "code",
   "execution_count": 39,
   "id": "84c78506",
   "metadata": {},
   "outputs": [],
   "source": [
    "# Creamos nuestro primer dataframe con los datos de electricidad mensual\n",
    "\n",
    "datos_electricidad ={ 'Mes':['Enero', 'Febrero', 'Marzo', 'Abril', 'Mayo', 'Junio', 'Julio', 'Agosto', 'Septiembre', 'Octubre'],\n",
    "                      'Consumo (kWh)':[73.86, 67.02, 75.24, 73.00, 82.33, 80.66, 85.65, 86.00, 83.65, 86.50]}\n",
    "\n",
    "tabla_consumo_electrico = pd.DataFrame(datos_electricidad)"
   ]
  },
  {
   "cell_type": "code",
   "execution_count": 40,
   "id": "d1235372",
   "metadata": {},
   "outputs": [
    {
     "data": {
      "text/html": [
       "<div>\n",
       "<style scoped>\n",
       "    .dataframe tbody tr th:only-of-type {\n",
       "        vertical-align: middle;\n",
       "    }\n",
       "\n",
       "    .dataframe tbody tr th {\n",
       "        vertical-align: top;\n",
       "    }\n",
       "\n",
       "    .dataframe thead th {\n",
       "        text-align: right;\n",
       "    }\n",
       "</style>\n",
       "<table border=\"1\" class=\"dataframe\">\n",
       "  <thead>\n",
       "    <tr style=\"text-align: right;\">\n",
       "      <th></th>\n",
       "      <th>Mes</th>\n",
       "      <th>Consumo (kWh)</th>\n",
       "    </tr>\n",
       "  </thead>\n",
       "  <tbody>\n",
       "    <tr>\n",
       "      <th>0</th>\n",
       "      <td>Enero</td>\n",
       "      <td>73.86</td>\n",
       "    </tr>\n",
       "    <tr>\n",
       "      <th>1</th>\n",
       "      <td>Febrero</td>\n",
       "      <td>67.02</td>\n",
       "    </tr>\n",
       "    <tr>\n",
       "      <th>2</th>\n",
       "      <td>Marzo</td>\n",
       "      <td>75.24</td>\n",
       "    </tr>\n",
       "    <tr>\n",
       "      <th>3</th>\n",
       "      <td>Abril</td>\n",
       "      <td>73.00</td>\n",
       "    </tr>\n",
       "    <tr>\n",
       "      <th>4</th>\n",
       "      <td>Mayo</td>\n",
       "      <td>82.33</td>\n",
       "    </tr>\n",
       "    <tr>\n",
       "      <th>5</th>\n",
       "      <td>Junio</td>\n",
       "      <td>80.66</td>\n",
       "    </tr>\n",
       "    <tr>\n",
       "      <th>6</th>\n",
       "      <td>Julio</td>\n",
       "      <td>85.65</td>\n",
       "    </tr>\n",
       "    <tr>\n",
       "      <th>7</th>\n",
       "      <td>Agosto</td>\n",
       "      <td>86.00</td>\n",
       "    </tr>\n",
       "    <tr>\n",
       "      <th>8</th>\n",
       "      <td>Septiembre</td>\n",
       "      <td>83.65</td>\n",
       "    </tr>\n",
       "    <tr>\n",
       "      <th>9</th>\n",
       "      <td>Octubre</td>\n",
       "      <td>86.50</td>\n",
       "    </tr>\n",
       "  </tbody>\n",
       "</table>\n",
       "</div>"
      ],
      "text/plain": [
       "          Mes  Consumo (kWh)\n",
       "0       Enero          73.86\n",
       "1     Febrero          67.02\n",
       "2       Marzo          75.24\n",
       "3       Abril          73.00\n",
       "4        Mayo          82.33\n",
       "5       Junio          80.66\n",
       "6       Julio          85.65\n",
       "7      Agosto          86.00\n",
       "8  Septiembre          83.65\n",
       "9     Octubre          86.50"
      ]
     },
     "execution_count": 40,
     "metadata": {},
     "output_type": "execute_result"
    }
   ],
   "source": [
    "tabla_consumo_electrico"
   ]
  },
  {
   "cell_type": "markdown",
   "id": "072e1d06",
   "metadata": {},
   "source": [
    "#### Obtención de datos de gas natural\n",
    "Estos datos los obtuve de los recibos mensuales de Engie. Lo único que tuve que hacer fue identificar el consumo, dividirlo entre el número de días del periodo y ajustarlo al mes correspondiente. "
   ]
  },
  {
   "cell_type": "code",
   "execution_count": 41,
   "id": "01845ccc",
   "metadata": {},
   "outputs": [],
   "source": [
    "# Creamos nuestro segundo dataframe con los datos de gas mensual\n",
    "\n",
    "datos_gas_natural ={ 'Mes':['Enero', 'Febrero', 'Marzo', 'Abril', 'Mayo', 'Junio', 'Julio', 'Agosto', 'Septiembre', 'Octubre'],\n",
    "                      'Consumo (m3)':[10.81, 18.80, 16.83, 17.20, 15.95, 16.89, 13.03, 14.04, 19.42, 14.57]}\n",
    "tabla_consumo_gas = pd.DataFrame(datos_gas_natural)"
   ]
  },
  {
   "cell_type": "code",
   "execution_count": 42,
   "id": "02cb6360",
   "metadata": {},
   "outputs": [
    {
     "data": {
      "text/html": [
       "<div>\n",
       "<style scoped>\n",
       "    .dataframe tbody tr th:only-of-type {\n",
       "        vertical-align: middle;\n",
       "    }\n",
       "\n",
       "    .dataframe tbody tr th {\n",
       "        vertical-align: top;\n",
       "    }\n",
       "\n",
       "    .dataframe thead th {\n",
       "        text-align: right;\n",
       "    }\n",
       "</style>\n",
       "<table border=\"1\" class=\"dataframe\">\n",
       "  <thead>\n",
       "    <tr style=\"text-align: right;\">\n",
       "      <th></th>\n",
       "      <th>Mes</th>\n",
       "      <th>Consumo (m3)</th>\n",
       "    </tr>\n",
       "  </thead>\n",
       "  <tbody>\n",
       "    <tr>\n",
       "      <th>0</th>\n",
       "      <td>Enero</td>\n",
       "      <td>10.81</td>\n",
       "    </tr>\n",
       "    <tr>\n",
       "      <th>1</th>\n",
       "      <td>Febrero</td>\n",
       "      <td>18.80</td>\n",
       "    </tr>\n",
       "    <tr>\n",
       "      <th>2</th>\n",
       "      <td>Marzo</td>\n",
       "      <td>16.83</td>\n",
       "    </tr>\n",
       "    <tr>\n",
       "      <th>3</th>\n",
       "      <td>Abril</td>\n",
       "      <td>17.20</td>\n",
       "    </tr>\n",
       "    <tr>\n",
       "      <th>4</th>\n",
       "      <td>Mayo</td>\n",
       "      <td>15.95</td>\n",
       "    </tr>\n",
       "    <tr>\n",
       "      <th>5</th>\n",
       "      <td>Junio</td>\n",
       "      <td>16.89</td>\n",
       "    </tr>\n",
       "    <tr>\n",
       "      <th>6</th>\n",
       "      <td>Julio</td>\n",
       "      <td>13.03</td>\n",
       "    </tr>\n",
       "    <tr>\n",
       "      <th>7</th>\n",
       "      <td>Agosto</td>\n",
       "      <td>14.04</td>\n",
       "    </tr>\n",
       "    <tr>\n",
       "      <th>8</th>\n",
       "      <td>Septiembre</td>\n",
       "      <td>19.42</td>\n",
       "    </tr>\n",
       "    <tr>\n",
       "      <th>9</th>\n",
       "      <td>Octubre</td>\n",
       "      <td>14.57</td>\n",
       "    </tr>\n",
       "  </tbody>\n",
       "</table>\n",
       "</div>"
      ],
      "text/plain": [
       "          Mes  Consumo (m3)\n",
       "0       Enero         10.81\n",
       "1     Febrero         18.80\n",
       "2       Marzo         16.83\n",
       "3       Abril         17.20\n",
       "4        Mayo         15.95\n",
       "5       Junio         16.89\n",
       "6       Julio         13.03\n",
       "7      Agosto         14.04\n",
       "8  Septiembre         19.42\n",
       "9     Octubre         14.57"
      ]
     },
     "execution_count": 42,
     "metadata": {},
     "output_type": "execute_result"
    }
   ],
   "source": [
    "tabla_consumo_gas"
   ]
  },
  {
   "cell_type": "markdown",
   "id": "e04032de",
   "metadata": {},
   "source": [
    "#### Calculamos las toneladas de CO₂e para el consumo electrico\n",
    "Esto se puede conseguir multiplicando los kWh por el factor de emisión del Servicio Eléctrico Nacional para el año 2022 y el factor de conversión de MWh a kWh.\n",
    "\n",
    "$FEred = (0.435 tCO₂e/MWh)(1 MWh / 1000 KWh)$"
   ]
  },
  {
   "cell_type": "code",
   "execution_count": 43,
   "id": "21745610",
   "metadata": {},
   "outputs": [],
   "source": [
    "# Definimos una función para realizar este cálculo\n",
    "def calculo_emisiones_electricidad(x):\n",
    "    emisiones_e = (0.435/1000)*x\n",
    "    return emisiones_e"
   ]
  },
  {
   "cell_type": "code",
   "execution_count": 44,
   "id": "242dc7ed",
   "metadata": {},
   "outputs": [
    {
     "data": {
      "text/html": [
       "<div>\n",
       "<style scoped>\n",
       "    .dataframe tbody tr th:only-of-type {\n",
       "        vertical-align: middle;\n",
       "    }\n",
       "\n",
       "    .dataframe tbody tr th {\n",
       "        vertical-align: top;\n",
       "    }\n",
       "\n",
       "    .dataframe thead th {\n",
       "        text-align: right;\n",
       "    }\n",
       "</style>\n",
       "<table border=\"1\" class=\"dataframe\">\n",
       "  <thead>\n",
       "    <tr style=\"text-align: right;\">\n",
       "      <th></th>\n",
       "      <th>Mes</th>\n",
       "      <th>Consumo (kWh)</th>\n",
       "      <th>tCO₂e</th>\n",
       "    </tr>\n",
       "  </thead>\n",
       "  <tbody>\n",
       "    <tr>\n",
       "      <th>0</th>\n",
       "      <td>Enero</td>\n",
       "      <td>73.86</td>\n",
       "      <td>0.032129</td>\n",
       "    </tr>\n",
       "    <tr>\n",
       "      <th>1</th>\n",
       "      <td>Febrero</td>\n",
       "      <td>67.02</td>\n",
       "      <td>0.029154</td>\n",
       "    </tr>\n",
       "    <tr>\n",
       "      <th>2</th>\n",
       "      <td>Marzo</td>\n",
       "      <td>75.24</td>\n",
       "      <td>0.032729</td>\n",
       "    </tr>\n",
       "    <tr>\n",
       "      <th>3</th>\n",
       "      <td>Abril</td>\n",
       "      <td>73.00</td>\n",
       "      <td>0.031755</td>\n",
       "    </tr>\n",
       "    <tr>\n",
       "      <th>4</th>\n",
       "      <td>Mayo</td>\n",
       "      <td>82.33</td>\n",
       "      <td>0.035814</td>\n",
       "    </tr>\n",
       "    <tr>\n",
       "      <th>5</th>\n",
       "      <td>Junio</td>\n",
       "      <td>80.66</td>\n",
       "      <td>0.035087</td>\n",
       "    </tr>\n",
       "    <tr>\n",
       "      <th>6</th>\n",
       "      <td>Julio</td>\n",
       "      <td>85.65</td>\n",
       "      <td>0.037258</td>\n",
       "    </tr>\n",
       "    <tr>\n",
       "      <th>7</th>\n",
       "      <td>Agosto</td>\n",
       "      <td>86.00</td>\n",
       "      <td>0.037410</td>\n",
       "    </tr>\n",
       "    <tr>\n",
       "      <th>8</th>\n",
       "      <td>Septiembre</td>\n",
       "      <td>83.65</td>\n",
       "      <td>0.036388</td>\n",
       "    </tr>\n",
       "    <tr>\n",
       "      <th>9</th>\n",
       "      <td>Octubre</td>\n",
       "      <td>86.50</td>\n",
       "      <td>0.037628</td>\n",
       "    </tr>\n",
       "  </tbody>\n",
       "</table>\n",
       "</div>"
      ],
      "text/plain": [
       "          Mes  Consumo (kWh)     tCO₂e\n",
       "0       Enero          73.86  0.032129\n",
       "1     Febrero          67.02  0.029154\n",
       "2       Marzo          75.24  0.032729\n",
       "3       Abril          73.00  0.031755\n",
       "4        Mayo          82.33  0.035814\n",
       "5       Junio          80.66  0.035087\n",
       "6       Julio          85.65  0.037258\n",
       "7      Agosto          86.00  0.037410\n",
       "8  Septiembre          83.65  0.036388\n",
       "9     Octubre          86.50  0.037628"
      ]
     },
     "execution_count": 44,
     "metadata": {},
     "output_type": "execute_result"
    }
   ],
   "source": [
    "# Creamos una nueva columna en la tabla de consumo eléctrico usando la función definida anteriormente en la columna de consumo\n",
    "tabla_consumo_electrico[\"tCO₂e\"] = tabla_consumo_electrico[\"Consumo (kWh)\"].apply(calculo_emisiones_electricidad)\n",
    "tabla_consumo_electrico"
   ]
  },
  {
   "cell_type": "markdown",
   "id": "4591c4d8",
   "metadata": {},
   "source": [
    "#### Correción de unidades\n",
    "Los valores que obtuvimos para las emisiones son muy pequeños porque están en toneladas, así que voy a convertirlos a kilogramos para que no sean tan pequeños."
   ]
  },
  {
   "cell_type": "code",
   "execution_count": 45,
   "id": "e1af57a1",
   "metadata": {},
   "outputs": [],
   "source": [
    "# Multiplicamos por 1000 para hacer la conversión de toneladas a kilogramos\n",
    "tabla_consumo_electrico[\"tCO₂e\"]=tabla_consumo_electrico[\"tCO₂e\"]*1000"
   ]
  },
  {
   "cell_type": "code",
   "execution_count": 46,
   "id": "7d09a537",
   "metadata": {},
   "outputs": [],
   "source": [
    "# Renombramos la columna de emisiones\n",
    "tabla_consumo_electrico = tabla_consumo_electrico.rename(columns={'tCO₂e': 'kgCO₂e'})"
   ]
  },
  {
   "cell_type": "code",
   "execution_count": 47,
   "id": "8ee335d8",
   "metadata": {},
   "outputs": [
    {
     "data": {
      "text/html": [
       "<div>\n",
       "<style scoped>\n",
       "    .dataframe tbody tr th:only-of-type {\n",
       "        vertical-align: middle;\n",
       "    }\n",
       "\n",
       "    .dataframe tbody tr th {\n",
       "        vertical-align: top;\n",
       "    }\n",
       "\n",
       "    .dataframe thead th {\n",
       "        text-align: right;\n",
       "    }\n",
       "</style>\n",
       "<table border=\"1\" class=\"dataframe\">\n",
       "  <thead>\n",
       "    <tr style=\"text-align: right;\">\n",
       "      <th></th>\n",
       "      <th>Mes</th>\n",
       "      <th>Consumo (kWh)</th>\n",
       "      <th>kgCO₂e</th>\n",
       "    </tr>\n",
       "  </thead>\n",
       "  <tbody>\n",
       "    <tr>\n",
       "      <th>0</th>\n",
       "      <td>Enero</td>\n",
       "      <td>73.86</td>\n",
       "      <td>32.12910</td>\n",
       "    </tr>\n",
       "    <tr>\n",
       "      <th>1</th>\n",
       "      <td>Febrero</td>\n",
       "      <td>67.02</td>\n",
       "      <td>29.15370</td>\n",
       "    </tr>\n",
       "    <tr>\n",
       "      <th>2</th>\n",
       "      <td>Marzo</td>\n",
       "      <td>75.24</td>\n",
       "      <td>32.72940</td>\n",
       "    </tr>\n",
       "    <tr>\n",
       "      <th>3</th>\n",
       "      <td>Abril</td>\n",
       "      <td>73.00</td>\n",
       "      <td>31.75500</td>\n",
       "    </tr>\n",
       "    <tr>\n",
       "      <th>4</th>\n",
       "      <td>Mayo</td>\n",
       "      <td>82.33</td>\n",
       "      <td>35.81355</td>\n",
       "    </tr>\n",
       "    <tr>\n",
       "      <th>5</th>\n",
       "      <td>Junio</td>\n",
       "      <td>80.66</td>\n",
       "      <td>35.08710</td>\n",
       "    </tr>\n",
       "    <tr>\n",
       "      <th>6</th>\n",
       "      <td>Julio</td>\n",
       "      <td>85.65</td>\n",
       "      <td>37.25775</td>\n",
       "    </tr>\n",
       "    <tr>\n",
       "      <th>7</th>\n",
       "      <td>Agosto</td>\n",
       "      <td>86.00</td>\n",
       "      <td>37.41000</td>\n",
       "    </tr>\n",
       "    <tr>\n",
       "      <th>8</th>\n",
       "      <td>Septiembre</td>\n",
       "      <td>83.65</td>\n",
       "      <td>36.38775</td>\n",
       "    </tr>\n",
       "    <tr>\n",
       "      <th>9</th>\n",
       "      <td>Octubre</td>\n",
       "      <td>86.50</td>\n",
       "      <td>37.62750</td>\n",
       "    </tr>\n",
       "  </tbody>\n",
       "</table>\n",
       "</div>"
      ],
      "text/plain": [
       "          Mes  Consumo (kWh)    kgCO₂e\n",
       "0       Enero          73.86  32.12910\n",
       "1     Febrero          67.02  29.15370\n",
       "2       Marzo          75.24  32.72940\n",
       "3       Abril          73.00  31.75500\n",
       "4        Mayo          82.33  35.81355\n",
       "5       Junio          80.66  35.08710\n",
       "6       Julio          85.65  37.25775\n",
       "7      Agosto          86.00  37.41000\n",
       "8  Septiembre          83.65  36.38775\n",
       "9     Octubre          86.50  37.62750"
      ]
     },
     "execution_count": 47,
     "metadata": {},
     "output_type": "execute_result"
    }
   ],
   "source": [
    "tabla_consumo_electrico"
   ]
  },
  {
   "cell_type": "markdown",
   "id": "57685847",
   "metadata": {},
   "source": [
    "#### Calculamos las tCO₂e para el gas natural\n",
    "Primero tenemos que calcular el poder calórico. Esto se logra al multiplicar el total del consumo en m³ por el poder calórico neto del gas natural para obtener el resultado en kJ. El poder calórico del gas natural es el siguiente:\n",
    "\n",
    "$PCgas natural = 39,083 kJ/m³$\n",
    "\n",
    "Después debemos de dividir el resultrado entre 1,000,000,000 para poder obtener el valor en TJ.\n",
    "\n",
    "Luego, para obtener la masa de cada uno de los gases de efecto invernadero, debemos de multiplicar el poder calórico por el factor de emisión predeterminado para gas natural de cada tipo de gas y el valor de potencial de calentamiento global del metano y el óxido nitroso.\n",
    "\n",
    "Los cuales son los siguientes:\n",
    "\n",
    "$FECO₂ = 56.1 tCO₂/TJ$\n",
    "\n",
    "$FECH₄ = (0.005 tCH₄/TJ) (28)$\n",
    "\n",
    "$FEN₂O = (0.0001 tN₂O/TJ) (264)$\n",
    "\n",
    "Para terminar, hay que sumar estos valores y así obtendremos la toneladas de dióxido de carbono equivalente."
   ]
  },
  {
   "cell_type": "code",
   "execution_count": 48,
   "id": "5a7364ce",
   "metadata": {},
   "outputs": [],
   "source": [
    "# Definimos la función para obtener las emisiones de CO2 equivalente\n",
    "\n",
    "def calculo_emisiones_gas(valor):\n",
    "    poder_calorico = (39083/1000000000)*valor\n",
    "    emisiones_co2 = poder_calorico * 56.1\n",
    "    emisiones_ch4 = poder_calorico * 0.005 * 28\n",
    "    emisiones_n2o = poder_calorico * 0.0001 * 264\n",
    "    emisiones_gn = emisiones_co2 + emisiones_ch4 + emisiones_n2o\n",
    "    return emisiones_gn"
   ]
  },
  {
   "cell_type": "code",
   "execution_count": 49,
   "id": "3bf341fb",
   "metadata": {},
   "outputs": [
    {
     "data": {
      "text/html": [
       "<div>\n",
       "<style scoped>\n",
       "    .dataframe tbody tr th:only-of-type {\n",
       "        vertical-align: middle;\n",
       "    }\n",
       "\n",
       "    .dataframe tbody tr th {\n",
       "        vertical-align: top;\n",
       "    }\n",
       "\n",
       "    .dataframe thead th {\n",
       "        text-align: right;\n",
       "    }\n",
       "</style>\n",
       "<table border=\"1\" class=\"dataframe\">\n",
       "  <thead>\n",
       "    <tr style=\"text-align: right;\">\n",
       "      <th></th>\n",
       "      <th>Mes</th>\n",
       "      <th>Consumo (m3)</th>\n",
       "      <th>tCO₂e</th>\n",
       "    </tr>\n",
       "  </thead>\n",
       "  <tbody>\n",
       "    <tr>\n",
       "      <th>0</th>\n",
       "      <td>Enero</td>\n",
       "      <td>10.81</td>\n",
       "      <td>0.023772</td>\n",
       "    </tr>\n",
       "    <tr>\n",
       "      <th>1</th>\n",
       "      <td>Febrero</td>\n",
       "      <td>18.80</td>\n",
       "      <td>0.041342</td>\n",
       "    </tr>\n",
       "    <tr>\n",
       "      <th>2</th>\n",
       "      <td>Marzo</td>\n",
       "      <td>16.83</td>\n",
       "      <td>0.037010</td>\n",
       "    </tr>\n",
       "    <tr>\n",
       "      <th>3</th>\n",
       "      <td>Abril</td>\n",
       "      <td>17.20</td>\n",
       "      <td>0.037824</td>\n",
       "    </tr>\n",
       "    <tr>\n",
       "      <th>4</th>\n",
       "      <td>Mayo</td>\n",
       "      <td>15.95</td>\n",
       "      <td>0.035075</td>\n",
       "    </tr>\n",
       "    <tr>\n",
       "      <th>5</th>\n",
       "      <td>Junio</td>\n",
       "      <td>16.89</td>\n",
       "      <td>0.037142</td>\n",
       "    </tr>\n",
       "    <tr>\n",
       "      <th>6</th>\n",
       "      <td>Julio</td>\n",
       "      <td>13.03</td>\n",
       "      <td>0.028654</td>\n",
       "    </tr>\n",
       "    <tr>\n",
       "      <th>7</th>\n",
       "      <td>Agosto</td>\n",
       "      <td>14.04</td>\n",
       "      <td>0.030875</td>\n",
       "    </tr>\n",
       "    <tr>\n",
       "      <th>8</th>\n",
       "      <td>Septiembre</td>\n",
       "      <td>19.42</td>\n",
       "      <td>0.042706</td>\n",
       "    </tr>\n",
       "    <tr>\n",
       "      <th>9</th>\n",
       "      <td>Octubre</td>\n",
       "      <td>14.57</td>\n",
       "      <td>0.032040</td>\n",
       "    </tr>\n",
       "  </tbody>\n",
       "</table>\n",
       "</div>"
      ],
      "text/plain": [
       "          Mes  Consumo (m3)     tCO₂e\n",
       "0       Enero         10.81  0.023772\n",
       "1     Febrero         18.80  0.041342\n",
       "2       Marzo         16.83  0.037010\n",
       "3       Abril         17.20  0.037824\n",
       "4        Mayo         15.95  0.035075\n",
       "5       Junio         16.89  0.037142\n",
       "6       Julio         13.03  0.028654\n",
       "7      Agosto         14.04  0.030875\n",
       "8  Septiembre         19.42  0.042706\n",
       "9     Octubre         14.57  0.032040"
      ]
     },
     "execution_count": 49,
     "metadata": {},
     "output_type": "execute_result"
    }
   ],
   "source": [
    "# Creamos la columna de las emisiones usando la función que definimos un paso atrás aplicada a la columna de consumo\n",
    "tabla_consumo_gas[\"tCO₂e\"] = tabla_consumo_gas[\"Consumo (m3)\"].apply(calculo_emisiones_gas)\n",
    "tabla_consumo_gas"
   ]
  },
  {
   "cell_type": "markdown",
   "id": "af659c9d",
   "metadata": {},
   "source": [
    "#### Correción de unidades\n",
    "Los valores que obtuvimos para las emisiones también son muy pequeños porque están en toneladas, así que voy a convertirlos a kilogramos para que no sean tan pequeños."
   ]
  },
  {
   "cell_type": "code",
   "execution_count": 50,
   "id": "96dbc7ba",
   "metadata": {},
   "outputs": [],
   "source": [
    "# Multiplicamos por 1000 para hacer la conversión de toneladas a kilogramos\n",
    "tabla_consumo_gas[\"tCO₂e\"]=tabla_consumo_gas[\"tCO₂e\"]*1000"
   ]
  },
  {
   "cell_type": "code",
   "execution_count": 51,
   "id": "e1b21ab1",
   "metadata": {},
   "outputs": [],
   "source": [
    "# Renombramos la columna de emisiones\n",
    "tabla_consumo_gas = tabla_consumo_gas.rename(columns={'tCO₂e': 'kgCO₂e'})"
   ]
  },
  {
   "cell_type": "code",
   "execution_count": 52,
   "id": "7c09a6a5",
   "metadata": {},
   "outputs": [
    {
     "data": {
      "text/html": [
       "<div>\n",
       "<style scoped>\n",
       "    .dataframe tbody tr th:only-of-type {\n",
       "        vertical-align: middle;\n",
       "    }\n",
       "\n",
       "    .dataframe tbody tr th {\n",
       "        vertical-align: top;\n",
       "    }\n",
       "\n",
       "    .dataframe thead th {\n",
       "        text-align: right;\n",
       "    }\n",
       "</style>\n",
       "<table border=\"1\" class=\"dataframe\">\n",
       "  <thead>\n",
       "    <tr style=\"text-align: right;\">\n",
       "      <th></th>\n",
       "      <th>Mes</th>\n",
       "      <th>Consumo (m3)</th>\n",
       "      <th>kgCO₂e</th>\n",
       "    </tr>\n",
       "  </thead>\n",
       "  <tbody>\n",
       "    <tr>\n",
       "      <th>0</th>\n",
       "      <td>Enero</td>\n",
       "      <td>10.81</td>\n",
       "      <td>23.771835</td>\n",
       "    </tr>\n",
       "    <tr>\n",
       "      <th>1</th>\n",
       "      <td>Febrero</td>\n",
       "      <td>18.80</td>\n",
       "      <td>41.342323</td>\n",
       "    </tr>\n",
       "    <tr>\n",
       "      <th>2</th>\n",
       "      <td>Marzo</td>\n",
       "      <td>16.83</td>\n",
       "      <td>37.010175</td>\n",
       "    </tr>\n",
       "    <tr>\n",
       "      <th>3</th>\n",
       "      <td>Abril</td>\n",
       "      <td>17.20</td>\n",
       "      <td>37.823827</td>\n",
       "    </tr>\n",
       "    <tr>\n",
       "      <th>4</th>\n",
       "      <td>Mayo</td>\n",
       "      <td>15.95</td>\n",
       "      <td>35.075002</td>\n",
       "    </tr>\n",
       "    <tr>\n",
       "      <th>5</th>\n",
       "      <td>Junio</td>\n",
       "      <td>16.89</td>\n",
       "      <td>37.142119</td>\n",
       "    </tr>\n",
       "    <tr>\n",
       "      <th>6</th>\n",
       "      <td>Julio</td>\n",
       "      <td>13.03</td>\n",
       "      <td>28.653748</td>\n",
       "    </tr>\n",
       "    <tr>\n",
       "      <th>7</th>\n",
       "      <td>Agosto</td>\n",
       "      <td>14.04</td>\n",
       "      <td>30.874798</td>\n",
       "    </tr>\n",
       "    <tr>\n",
       "      <th>8</th>\n",
       "      <td>Septiembre</td>\n",
       "      <td>19.42</td>\n",
       "      <td>42.705740</td>\n",
       "    </tr>\n",
       "    <tr>\n",
       "      <th>9</th>\n",
       "      <td>Octubre</td>\n",
       "      <td>14.57</td>\n",
       "      <td>32.040300</td>\n",
       "    </tr>\n",
       "  </tbody>\n",
       "</table>\n",
       "</div>"
      ],
      "text/plain": [
       "          Mes  Consumo (m3)     kgCO₂e\n",
       "0       Enero         10.81  23.771835\n",
       "1     Febrero         18.80  41.342323\n",
       "2       Marzo         16.83  37.010175\n",
       "3       Abril         17.20  37.823827\n",
       "4        Mayo         15.95  35.075002\n",
       "5       Junio         16.89  37.142119\n",
       "6       Julio         13.03  28.653748\n",
       "7      Agosto         14.04  30.874798\n",
       "8  Septiembre         19.42  42.705740\n",
       "9     Octubre         14.57  32.040300"
      ]
     },
     "execution_count": 52,
     "metadata": {},
     "output_type": "execute_result"
    }
   ],
   "source": [
    "tabla_consumo_gas"
   ]
  },
  {
   "cell_type": "markdown",
   "id": "dfd89822",
   "metadata": {},
   "source": [
    "#### Calculo total de las emisiones por consumo eléctrico y por consumo de gas natural"
   ]
  },
  {
   "cell_type": "markdown",
   "id": "eb6d9509",
   "metadata": {},
   "source": [
    "El siguiente código lo utilizaré para saber cuántos kgCO₂e he emitido durante los meses de enero a octubre a través de mi consumo de electricidad:"
   ]
  },
  {
   "cell_type": "code",
   "execution_count": 53,
   "id": "0e8bff29",
   "metadata": {},
   "outputs": [
    {
     "name": "stdout",
     "output_type": "stream",
     "text": [
      "Las emisiones totales por consumo de electricidad es: 345.35085 kgCO₂e\n"
     ]
    }
   ],
   "source": [
    "emisiones_electricidad = tabla_consumo_electrico[\"kgCO₂e\"].sum()\n",
    "print(f\"Las emisiones totales por consumo de electricidad es: {emisiones_electricidad} kgCO₂e\")"
   ]
  },
  {
   "cell_type": "markdown",
   "id": "170dcf81",
   "metadata": {},
   "source": [
    "El siguiente código lo utilizaré para saber cuántos kgCO₂e he emitido durante los meses de enero a octubre a través de mi consumo de gas natural:"
   ]
  },
  {
   "cell_type": "code",
   "execution_count": 54,
   "id": "babcd8dc",
   "metadata": {},
   "outputs": [
    {
     "name": "stdout",
     "output_type": "stream",
     "text": [
      "Las emisiones totales por consumo de gas es: 346.439866902448 kgCO₂e\n"
     ]
    }
   ],
   "source": [
    "emisiones_gas = tabla_consumo_gas[\"kgCO₂e\"].sum()\n",
    "print(f\"Las emisiones totales por consumo de gas es: {emisiones_gas} kgCO₂e\")"
   ]
  },
  {
   "cell_type": "markdown",
   "id": "58da77e8",
   "metadata": {},
   "source": [
    "El siguiente código lo utilizaré para saber cuántos kgCO₂e totales he emitido durante los meses de enero a octubre a través de mi consumo de electricidad y gas natural:"
   ]
  },
  {
   "cell_type": "code",
   "execution_count": 55,
   "id": "f62b27f3",
   "metadata": {},
   "outputs": [
    {
     "name": "stdout",
     "output_type": "stream",
     "text": [
      "Las emisiones totales en tu hogar son: 691.7907169024479 kgCO₂e\n"
     ]
    }
   ],
   "source": [
    "emisiones_totales = emisiones_electricidad + emisiones_gas\n",
    "print(f\"Las emisiones totales en tu hogar son: {emisiones_totales} kgCO₂e\")"
   ]
  },
  {
   "cell_type": "markdown",
   "id": "cd1863b0",
   "metadata": {},
   "source": [
    "#### Visualizaciones"
   ]
  },
  {
   "cell_type": "code",
   "execution_count": 56,
   "id": "8281ecbf",
   "metadata": {},
   "outputs": [],
   "source": [
    "# Importamos las librerías necesarias para realizar las visualizaciones\n",
    "import numpy as np\n",
    "import matplotlib.pyplot as plt"
   ]
  },
  {
   "cell_type": "code",
   "execution_count": 57,
   "id": "638e240d",
   "metadata": {},
   "outputs": [
    {
     "name": "stdout",
     "output_type": "stream",
     "text": [
      "['Solarize_Light2', '_classic_test_patch', '_mpl-gallery', '_mpl-gallery-nogrid', 'bmh', 'classic', 'dark_background', 'fast', 'fivethirtyeight', 'ggplot', 'grayscale', 'seaborn-v0_8', 'seaborn-v0_8-bright', 'seaborn-v0_8-colorblind', 'seaborn-v0_8-dark', 'seaborn-v0_8-dark-palette', 'seaborn-v0_8-darkgrid', 'seaborn-v0_8-deep', 'seaborn-v0_8-muted', 'seaborn-v0_8-notebook', 'seaborn-v0_8-paper', 'seaborn-v0_8-pastel', 'seaborn-v0_8-poster', 'seaborn-v0_8-talk', 'seaborn-v0_8-ticks', 'seaborn-v0_8-white', 'seaborn-v0_8-whitegrid', 'tableau-colorblind10']\n"
     ]
    }
   ],
   "source": [
    "# Buscamos algún tema que nos guste\n",
    "print(plt.style.available)"
   ]
  },
  {
   "cell_type": "code",
   "execution_count": 58,
   "id": "52556609",
   "metadata": {},
   "outputs": [],
   "source": [
    "# Aplicamos un tema adecuado. En este caso uno accesible para personas con alguna daltonismo\n",
    "plt.style.use('seaborn-v0_8-colorblind')"
   ]
  },
  {
   "cell_type": "code",
   "execution_count": 59,
   "id": "8ec7fda6",
   "metadata": {},
   "outputs": [],
   "source": [
    "# Definimos la columna de mes como índice de nuestro conjunto de datos de las tablas\n",
    "tabla_consumo_electrico = tabla_consumo_electrico.set_index('Mes')"
   ]
  },
  {
   "cell_type": "code",
   "execution_count": 60,
   "id": "b6be4b7c",
   "metadata": {},
   "outputs": [
    {
     "data": {
      "text/html": [
       "<div>\n",
       "<style scoped>\n",
       "    .dataframe tbody tr th:only-of-type {\n",
       "        vertical-align: middle;\n",
       "    }\n",
       "\n",
       "    .dataframe tbody tr th {\n",
       "        vertical-align: top;\n",
       "    }\n",
       "\n",
       "    .dataframe thead th {\n",
       "        text-align: right;\n",
       "    }\n",
       "</style>\n",
       "<table border=\"1\" class=\"dataframe\">\n",
       "  <thead>\n",
       "    <tr style=\"text-align: right;\">\n",
       "      <th></th>\n",
       "      <th>Consumo (kWh)</th>\n",
       "      <th>kgCO₂e</th>\n",
       "    </tr>\n",
       "    <tr>\n",
       "      <th>Mes</th>\n",
       "      <th></th>\n",
       "      <th></th>\n",
       "    </tr>\n",
       "  </thead>\n",
       "  <tbody>\n",
       "    <tr>\n",
       "      <th>Enero</th>\n",
       "      <td>73.86</td>\n",
       "      <td>32.12910</td>\n",
       "    </tr>\n",
       "    <tr>\n",
       "      <th>Febrero</th>\n",
       "      <td>67.02</td>\n",
       "      <td>29.15370</td>\n",
       "    </tr>\n",
       "    <tr>\n",
       "      <th>Marzo</th>\n",
       "      <td>75.24</td>\n",
       "      <td>32.72940</td>\n",
       "    </tr>\n",
       "    <tr>\n",
       "      <th>Abril</th>\n",
       "      <td>73.00</td>\n",
       "      <td>31.75500</td>\n",
       "    </tr>\n",
       "    <tr>\n",
       "      <th>Mayo</th>\n",
       "      <td>82.33</td>\n",
       "      <td>35.81355</td>\n",
       "    </tr>\n",
       "    <tr>\n",
       "      <th>Junio</th>\n",
       "      <td>80.66</td>\n",
       "      <td>35.08710</td>\n",
       "    </tr>\n",
       "    <tr>\n",
       "      <th>Julio</th>\n",
       "      <td>85.65</td>\n",
       "      <td>37.25775</td>\n",
       "    </tr>\n",
       "    <tr>\n",
       "      <th>Agosto</th>\n",
       "      <td>86.00</td>\n",
       "      <td>37.41000</td>\n",
       "    </tr>\n",
       "    <tr>\n",
       "      <th>Septiembre</th>\n",
       "      <td>83.65</td>\n",
       "      <td>36.38775</td>\n",
       "    </tr>\n",
       "    <tr>\n",
       "      <th>Octubre</th>\n",
       "      <td>86.50</td>\n",
       "      <td>37.62750</td>\n",
       "    </tr>\n",
       "  </tbody>\n",
       "</table>\n",
       "</div>"
      ],
      "text/plain": [
       "            Consumo (kWh)    kgCO₂e\n",
       "Mes                                \n",
       "Enero               73.86  32.12910\n",
       "Febrero             67.02  29.15370\n",
       "Marzo               75.24  32.72940\n",
       "Abril               73.00  31.75500\n",
       "Mayo                82.33  35.81355\n",
       "Junio               80.66  35.08710\n",
       "Julio               85.65  37.25775\n",
       "Agosto              86.00  37.41000\n",
       "Septiembre          83.65  36.38775\n",
       "Octubre             86.50  37.62750"
      ]
     },
     "execution_count": 60,
     "metadata": {},
     "output_type": "execute_result"
    }
   ],
   "source": [
    "tabla_consumo_electrico"
   ]
  },
  {
   "cell_type": "code",
   "execution_count": 61,
   "id": "de1dcdc6",
   "metadata": {},
   "outputs": [],
   "source": [
    "tabla_consumo_gas = tabla_consumo_gas.set_index('Mes')"
   ]
  },
  {
   "cell_type": "code",
   "execution_count": 62,
   "id": "e90cd853",
   "metadata": {},
   "outputs": [
    {
     "data": {
      "text/html": [
       "<div>\n",
       "<style scoped>\n",
       "    .dataframe tbody tr th:only-of-type {\n",
       "        vertical-align: middle;\n",
       "    }\n",
       "\n",
       "    .dataframe tbody tr th {\n",
       "        vertical-align: top;\n",
       "    }\n",
       "\n",
       "    .dataframe thead th {\n",
       "        text-align: right;\n",
       "    }\n",
       "</style>\n",
       "<table border=\"1\" class=\"dataframe\">\n",
       "  <thead>\n",
       "    <tr style=\"text-align: right;\">\n",
       "      <th></th>\n",
       "      <th>Consumo (m3)</th>\n",
       "      <th>kgCO₂e</th>\n",
       "    </tr>\n",
       "    <tr>\n",
       "      <th>Mes</th>\n",
       "      <th></th>\n",
       "      <th></th>\n",
       "    </tr>\n",
       "  </thead>\n",
       "  <tbody>\n",
       "    <tr>\n",
       "      <th>Enero</th>\n",
       "      <td>10.81</td>\n",
       "      <td>23.771835</td>\n",
       "    </tr>\n",
       "    <tr>\n",
       "      <th>Febrero</th>\n",
       "      <td>18.80</td>\n",
       "      <td>41.342323</td>\n",
       "    </tr>\n",
       "    <tr>\n",
       "      <th>Marzo</th>\n",
       "      <td>16.83</td>\n",
       "      <td>37.010175</td>\n",
       "    </tr>\n",
       "    <tr>\n",
       "      <th>Abril</th>\n",
       "      <td>17.20</td>\n",
       "      <td>37.823827</td>\n",
       "    </tr>\n",
       "    <tr>\n",
       "      <th>Mayo</th>\n",
       "      <td>15.95</td>\n",
       "      <td>35.075002</td>\n",
       "    </tr>\n",
       "    <tr>\n",
       "      <th>Junio</th>\n",
       "      <td>16.89</td>\n",
       "      <td>37.142119</td>\n",
       "    </tr>\n",
       "    <tr>\n",
       "      <th>Julio</th>\n",
       "      <td>13.03</td>\n",
       "      <td>28.653748</td>\n",
       "    </tr>\n",
       "    <tr>\n",
       "      <th>Agosto</th>\n",
       "      <td>14.04</td>\n",
       "      <td>30.874798</td>\n",
       "    </tr>\n",
       "    <tr>\n",
       "      <th>Septiembre</th>\n",
       "      <td>19.42</td>\n",
       "      <td>42.705740</td>\n",
       "    </tr>\n",
       "    <tr>\n",
       "      <th>Octubre</th>\n",
       "      <td>14.57</td>\n",
       "      <td>32.040300</td>\n",
       "    </tr>\n",
       "  </tbody>\n",
       "</table>\n",
       "</div>"
      ],
      "text/plain": [
       "            Consumo (m3)     kgCO₂e\n",
       "Mes                                \n",
       "Enero              10.81  23.771835\n",
       "Febrero            18.80  41.342323\n",
       "Marzo              16.83  37.010175\n",
       "Abril              17.20  37.823827\n",
       "Mayo               15.95  35.075002\n",
       "Junio              16.89  37.142119\n",
       "Julio              13.03  28.653748\n",
       "Agosto             14.04  30.874798\n",
       "Septiembre         19.42  42.705740\n",
       "Octubre            14.57  32.040300"
      ]
     },
     "execution_count": 62,
     "metadata": {},
     "output_type": "execute_result"
    }
   ],
   "source": [
    "tabla_consumo_gas"
   ]
  },
  {
   "cell_type": "code",
   "execution_count": 63,
   "id": "94e83cad",
   "metadata": {},
   "outputs": [
    {
     "data": {
      "text/plain": [
       "<Axes: title={'center': 'Consumo de electricidad'}, xlabel='Fecha en el 2023', ylabel='kWh'>"
      ]
     },
     "execution_count": 63,
     "metadata": {},
     "output_type": "execute_result"
    },
    {
     "data": {
      "image/png": "[encoded data removed]",
      "text/plain": [
       "<Figure size 640x480 with 1 Axes>"
      ]
     },
     "metadata": {},
     "output_type": "display_data"
    }
   ],
   "source": [
    "# Creamos la gráfica de barras sobre el consumo eléctrico\n",
    "tabla_consumo_electrico[\"Consumo (kWh)\"].plot(kind='bar', title='Consumo de electricidad', xlabel='Fecha en el 2023', ylabel='kWh')"
   ]
  },
  {
   "cell_type": "code",
   "execution_count": 64,
   "id": "13cb5ebe",
   "metadata": {},
   "outputs": [
    {
     "data": {
      "text/plain": [
       "<Axes: title={'center': 'Consumo de gas'}, xlabel='Fecha en el 2023', ylabel='m³'>"
      ]
     },
     "execution_count": 64,
     "metadata": {},
     "output_type": "execute_result"
    },
    {
     "data": {
      "image/png": "[encoded data removed]",
      "text/plain": [
       "<Figure size 640x480 with 1 Axes>"
      ]
     },
     "metadata": {},
     "output_type": "display_data"
    }
   ],
   "source": [
    "# Ahora graficamos el consumo de gas natural\n",
    "tabla_consumo_gas[\"Consumo (m3)\"].plot(kind='bar', title='Consumo de gas', xlabel='Fecha en el 2023', ylabel='m³')"
   ]
  },
  {
   "cell_type": "markdown",
   "id": "3f880b35",
   "metadata": {},
   "source": [
    "Como tenemos dos tablas para las emisiones de kgCO₂e, vamos a crear una sola tabla que contenga los datos de estas emisiones y así poder trabajar con esa tabla."
   ]
  },
  {
   "cell_type": "code",
   "execution_count": 71,
   "id": "66c2c584",
   "metadata": {},
   "outputs": [],
   "source": [
    "# Unimos las dos tablas para crear una sola de las emisiones en kgCO2e\n",
    "#tabla_emisiones = tabla_consumo_electrico.merge(tabla_consumo_gas, how = 'inner', on = 'Mes')\n",
    "\n",
    "#Arreglamos la tabla cambiando el nombre a algunas columnas y eliminando las que no queremos\n",
    "#tabla_emisiones = tabla_emisiones.rename(columns={'kgCO₂e_x': 'Emisiones Electricidad'})\n",
    "#tabla_emisiones = tabla_emisiones.rename(columns={'kgCO₂e_y': 'Emisiones Gas'})\n",
    "#tabla_emisiones = tabla_emisiones.drop(columns=['Consumo (kWh)'])\n",
    "#tabla_emisiones = tabla_emisiones.drop(columns=['Consumo (m3)'])"
   ]
  },
  {
   "cell_type": "code",
   "execution_count": 72,
   "id": "4d2c46ba",
   "metadata": {},
   "outputs": [],
   "source": [
    "# Creamos una columna nueva con la suma de ambos tipos de emisiones\n",
    "tabla_emisiones['Emisiones Totales']=tabla_emisiones[\"Emisiones Electricidad\"]+tabla_emisiones[\"Emisiones Gas\"]"
   ]
  },
  {
   "cell_type": "code",
   "execution_count": 73,
   "id": "688d04dd",
   "metadata": {},
   "outputs": [
    {
     "data": {
      "text/html": [
       "<div>\n",
       "<style scoped>\n",
       "    .dataframe tbody tr th:only-of-type {\n",
       "        vertical-align: middle;\n",
       "    }\n",
       "\n",
       "    .dataframe tbody tr th {\n",
       "        vertical-align: top;\n",
       "    }\n",
       "\n",
       "    .dataframe thead th {\n",
       "        text-align: right;\n",
       "    }\n",
       "</style>\n",
       "<table border=\"1\" class=\"dataframe\">\n",
       "  <thead>\n",
       "    <tr style=\"text-align: right;\">\n",
       "      <th></th>\n",
       "      <th>Emisiones Electricidad</th>\n",
       "      <th>Emisiones Gas</th>\n",
       "      <th>Emisiones Totales</th>\n",
       "    </tr>\n",
       "    <tr>\n",
       "      <th>Mes</th>\n",
       "      <th></th>\n",
       "      <th></th>\n",
       "      <th></th>\n",
       "    </tr>\n",
       "  </thead>\n",
       "  <tbody>\n",
       "    <tr>\n",
       "      <th>Enero</th>\n",
       "      <td>32.12910</td>\n",
       "      <td>23.771835</td>\n",
       "      <td>55.900935</td>\n",
       "    </tr>\n",
       "    <tr>\n",
       "      <th>Febrero</th>\n",
       "      <td>29.15370</td>\n",
       "      <td>41.342323</td>\n",
       "      <td>70.496023</td>\n",
       "    </tr>\n",
       "    <tr>\n",
       "      <th>Marzo</th>\n",
       "      <td>32.72940</td>\n",
       "      <td>37.010175</td>\n",
       "      <td>69.739575</td>\n",
       "    </tr>\n",
       "    <tr>\n",
       "      <th>Abril</th>\n",
       "      <td>31.75500</td>\n",
       "      <td>37.823827</td>\n",
       "      <td>69.578827</td>\n",
       "    </tr>\n",
       "    <tr>\n",
       "      <th>Mayo</th>\n",
       "      <td>35.81355</td>\n",
       "      <td>35.075002</td>\n",
       "      <td>70.888552</td>\n",
       "    </tr>\n",
       "    <tr>\n",
       "      <th>Junio</th>\n",
       "      <td>35.08710</td>\n",
       "      <td>37.142119</td>\n",
       "      <td>72.229219</td>\n",
       "    </tr>\n",
       "    <tr>\n",
       "      <th>Julio</th>\n",
       "      <td>37.25775</td>\n",
       "      <td>28.653748</td>\n",
       "      <td>65.911498</td>\n",
       "    </tr>\n",
       "    <tr>\n",
       "      <th>Agosto</th>\n",
       "      <td>37.41000</td>\n",
       "      <td>30.874798</td>\n",
       "      <td>68.284798</td>\n",
       "    </tr>\n",
       "    <tr>\n",
       "      <th>Septiembre</th>\n",
       "      <td>36.38775</td>\n",
       "      <td>42.705740</td>\n",
       "      <td>79.093490</td>\n",
       "    </tr>\n",
       "    <tr>\n",
       "      <th>Octubre</th>\n",
       "      <td>37.62750</td>\n",
       "      <td>32.040300</td>\n",
       "      <td>69.667800</td>\n",
       "    </tr>\n",
       "  </tbody>\n",
       "</table>\n",
       "</div>"
      ],
      "text/plain": [
       "            Emisiones Electricidad  Emisiones Gas  Emisiones Totales\n",
       "Mes                                                                 \n",
       "Enero                     32.12910      23.771835          55.900935\n",
       "Febrero                   29.15370      41.342323          70.496023\n",
       "Marzo                     32.72940      37.010175          69.739575\n",
       "Abril                     31.75500      37.823827          69.578827\n",
       "Mayo                      35.81355      35.075002          70.888552\n",
       "Junio                     35.08710      37.142119          72.229219\n",
       "Julio                     37.25775      28.653748          65.911498\n",
       "Agosto                    37.41000      30.874798          68.284798\n",
       "Septiembre                36.38775      42.705740          79.093490\n",
       "Octubre                   37.62750      32.040300          69.667800"
      ]
     },
     "execution_count": 73,
     "metadata": {},
     "output_type": "execute_result"
    }
   ],
   "source": [
    "tabla_emisiones"
   ]
  },
  {
   "cell_type": "markdown",
   "id": "5194c099",
   "metadata": {},
   "source": [
    "#### Resumen estadístico\n",
    "Aprovechando la creación de esta tabla haré un resumen estadístico de sus valores en cada columna."
   ]
  },
  {
   "cell_type": "code",
   "execution_count": 83,
   "id": "8ea60721",
   "metadata": {},
   "outputs": [
    {
     "data": {
      "text/html": [
       "<div>\n",
       "<style scoped>\n",
       "    .dataframe tbody tr th:only-of-type {\n",
       "        vertical-align: middle;\n",
       "    }\n",
       "\n",
       "    .dataframe tbody tr th {\n",
       "        vertical-align: top;\n",
       "    }\n",
       "\n",
       "    .dataframe thead th {\n",
       "        text-align: right;\n",
       "    }\n",
       "</style>\n",
       "<table border=\"1\" class=\"dataframe\">\n",
       "  <thead>\n",
       "    <tr style=\"text-align: right;\">\n",
       "      <th></th>\n",
       "      <th>Emisiones Electricidad</th>\n",
       "      <th>Emisiones Gas</th>\n",
       "      <th>Emisiones Totales</th>\n",
       "    </tr>\n",
       "  </thead>\n",
       "  <tbody>\n",
       "    <tr>\n",
       "      <th>count</th>\n",
       "      <td>10.000000</td>\n",
       "      <td>10.000000</td>\n",
       "      <td>10.000000</td>\n",
       "    </tr>\n",
       "    <tr>\n",
       "      <th>mean</th>\n",
       "      <td>34.535085</td>\n",
       "      <td>34.643987</td>\n",
       "      <td>69.179072</td>\n",
       "    </tr>\n",
       "    <tr>\n",
       "      <th>std</th>\n",
       "      <td>2.912618</td>\n",
       "      <td>5.841126</td>\n",
       "      <td>5.780756</td>\n",
       "    </tr>\n",
       "    <tr>\n",
       "      <th>min</th>\n",
       "      <td>29.153700</td>\n",
       "      <td>23.771835</td>\n",
       "      <td>55.900935</td>\n",
       "    </tr>\n",
       "    <tr>\n",
       "      <th>25%</th>\n",
       "      <td>32.279175</td>\n",
       "      <td>31.166174</td>\n",
       "      <td>68.608306</td>\n",
       "    </tr>\n",
       "    <tr>\n",
       "      <th>50%</th>\n",
       "      <td>35.450325</td>\n",
       "      <td>36.042589</td>\n",
       "      <td>69.703687</td>\n",
       "    </tr>\n",
       "    <tr>\n",
       "      <th>75%</th>\n",
       "      <td>37.040250</td>\n",
       "      <td>37.653400</td>\n",
       "      <td>70.790420</td>\n",
       "    </tr>\n",
       "    <tr>\n",
       "      <th>max</th>\n",
       "      <td>37.627500</td>\n",
       "      <td>42.705740</td>\n",
       "      <td>79.093490</td>\n",
       "    </tr>\n",
       "  </tbody>\n",
       "</table>\n",
       "</div>"
      ],
      "text/plain": [
       "       Emisiones Electricidad  Emisiones Gas  Emisiones Totales\n",
       "count               10.000000      10.000000          10.000000\n",
       "mean                34.535085      34.643987          69.179072\n",
       "std                  2.912618       5.841126           5.780756\n",
       "min                 29.153700      23.771835          55.900935\n",
       "25%                 32.279175      31.166174          68.608306\n",
       "50%                 35.450325      36.042589          69.703687\n",
       "75%                 37.040250      37.653400          70.790420\n",
       "max                 37.627500      42.705740          79.093490"
      ]
     },
     "execution_count": 83,
     "metadata": {},
     "output_type": "execute_result"
    }
   ],
   "source": [
    "tabla_emisiones.describe()"
   ]
  },
  {
   "cell_type": "code",
   "execution_count": 77,
   "id": "ddef81e3",
   "metadata": {},
   "outputs": [
    {
     "data": {
      "text/plain": [
       "<Axes: title={'center': 'Emisiones de electricidad y gas'}, xlabel='Fecha en el 2023', ylabel='kgCO₂e'>"
      ]
     },
     "execution_count": 77,
     "metadata": {},
     "output_type": "execute_result"
    },
    {
     "data": {
      "image/png": "[encoded data removed]",
      "text/plain": [
       "<Figure size 640x480 with 1 Axes>"
      ]
     },
     "metadata": {},
     "output_type": "display_data"
    }
   ],
   "source": [
    "# Comparamos las emisiones de electricidad y de gas en una gráfica\n",
    "tabla_emisiones.plot(kind='bar', y=['Emisiones Gas', 'Emisiones Electricidad'], title='Emisiones de electricidad y gas', xlabel='Fecha en el 2023', ylabel='kgCO₂e')"
   ]
  },
  {
   "cell_type": "code",
   "execution_count": 76,
   "id": "e813fc7f",
   "metadata": {},
   "outputs": [
    {
     "data": {
      "text/plain": [
       "<Axes: title={'center': 'Emisiones Totales'}, xlabel='Fecha en el 2023', ylabel='kgCO₂e'>"
      ]
     },
     "execution_count": 76,
     "metadata": {},
     "output_type": "execute_result"
    },
    {
     "data": {
      "image/png": "[encoded data removed]",
      "text/plain": [
       "<Figure size 640x480 with 1 Axes>"
      ]
     },
     "metadata": {},
     "output_type": "display_data"
    }
   ],
   "source": [
    "# Graficamos las emisiones totales de kgCO2e por mes\n",
    "tabla_emisiones['Emisiones Totales'].plot(kind='bar', title='Emisiones Totales', xlabel='Fecha en el 2023', ylabel='kgCO₂e')"
   ]
  },
  {
   "cell_type": "markdown",
   "id": "2d6c6209",
   "metadata": {},
   "source": [
    "### Hallazgos\n",
    "\n",
    "Con este análisis he descubierto los siguientes puntos sobre las emisiones de GEI en mi hogar:\n",
    "- Hasta el 31 de octubre de 2023 he emitido un total de **691.79 kgCO₂e**.\n",
    "- En promedio las emisiones mensuales de mi hogar son de **69.18 kgCO₂e**.\n",
    "- La emisión mínima es de **55.90 kgCO₂e** y la máxima es de **79.10 kgCO₂e**.\n",
    "- Comparando las emisiones provenientes del consumo eléctrico y el de gas natural, este ultimo es el que más ha generado, con **346.44 kgCO₂e**, aunque la diferencia únicamente es de aproximadamente 1 kgCO₂e."
   ]
  },
  {
   "cell_type": "markdown",
   "id": "d4e71092",
   "metadata": {},
   "source": [
    "### Recomendaciones\n",
    "Dado que las emisiones totales de mi hogar son de 691.79 kgCO₂e, se me ocurren algunas formas compensar estas emisiones y de minimizarlas en el futuro. \n",
    "\n",
    "#### Prácticas de reforestación\n",
    " Con base en la información proporcionada por SEMARNAT, se estima que un árbol tiene la capacidad de absorber alrededor de **12 kilogramos de dióxido de carbono anualmente**, aunque este valor puede variar según el tipo de árbol. Dado que mi emisión mensual es de **69.18 kgCO₂e**, la emisión anual alcanzaría aproximadamente los **830.16 kgCO₂e**. Por lo tanto, se requeriría plantar y cuidar alrededor de **70 árboles** para contrarrestar estas emisiones.\n",
    "\n",
    "Es fundamental tener en cuenta que estos árboles necesitan crecer lo suficiente para alcanzar su máximo potencial de captura de CO₂. No obstante, la plantación de árboles y la restauración de la cobertura vegetal pueden proporcionar beneficios más amplios que la simple captación de carbono. Por lo tanto, esta práctica no solo debería considerarse como una medida de compensación de emisiones, sino también como una estrategia para mejorar la salud de nuestro planeta.\n",
    "\n",
    "#### Instalación de sistemas fotovoltaicos\n",
    "Casi la mitad del total de emisiones de gases de efecto invernadero que emití en mi hogar fueron por el consumo de electricidad. Si yo quisiera evitar la generación de esas emisiones, podría optar por instalar algún sistema fotovoltaico en mi hogar.\n",
    "\n",
    "Mi consumo de electricidad promedio mensual es de **79.39 kWh**, el consumo anual sería de aproximadamente **952.68 kWh**. Por lo tanto diaramente necesitaría generar **2.61 kWh**.\n",
    "\n",
    "Si quiero generar esa cantidad, entonces podría instalar **2 paneles solares de 400 W**. Dado que vivo en la ciudad de Puebla, el **promedio de horas pico de sol es de 5.5 h**. Además hay que tomar en cuenta que no se generarán los 400 W porque siempre hay un margen de pérdida, así que supongamos que obtenemos el **80% de potencia**. Aplicando la siguiente fórmula:\n",
    "\n",
    "Potencia Generada = Número de Paneles Solares * Potencia del Panel * Horas Pico de Sol * Porcentaje de Potencia Obtenida"
   ]
  },
  {
   "cell_type": "code",
   "execution_count": 89,
   "id": "370a68f0",
   "metadata": {},
   "outputs": [
    {
     "data": {
      "text/plain": [
       "3.52"
      ]
     },
     "execution_count": 89,
     "metadata": {},
     "output_type": "execute_result"
    }
   ],
   "source": [
    "potencia_generada = 2*400*5.5*0.80\n",
    "#Dividimos entre 1000 para obtener el valor en kWh\n",
    "potencia_generada = potencia_generada/1000\n",
    "potencia_generada"
   ]
  },
  {
   "cell_type": "markdown",
   "id": "e8786ff7",
   "metadata": {},
   "source": [
    "Produciría una potencia diaria de **3.52 kWh**, lo que resulta en una generación anual de **1248.8 kWh** al multiplicar este valor por los 365 días del año. Esto superaría mi consumo de electricidad anual en **332.12 kWh**. Este excedente es estratégico, ya que mi sistema estaría diseñado para generar más de lo que consumo habitualmente, lo que podría ser beneficioso en momentos en los que mi demanda eléctrica sea más alta.\n",
    "\n",
    "Para optimizar esta instalación, se requeriría una conexión al Sistema Eléctrico Nacional (SEN), acompañada de un medidor bidireccional capaz de distinguir entre la electricidad suministrada por el SEN y la generada por el sistema fotovoltaico conectado a la red.\n",
    "\n",
    "Ahora bien, como se generarían **1248.8 kWh** de electricidad, es importante calcular a cuántos kgCO₂e equivaldrían si se hubieran generado de forma normal a través de la CFE. Para ello ocuparé la función que se definió párrafos arriba."
   ]
  },
  {
   "cell_type": "code",
   "execution_count": 91,
   "id": "3dd2742d",
   "metadata": {},
   "outputs": [
    {
     "data": {
      "text/plain": [
       "543.228"
      ]
     },
     "execution_count": 91,
     "metadata": {},
     "output_type": "execute_result"
    }
   ],
   "source": [
    "emisiones_evitadas = calculo_emisiones_electricidad(1248.8)*1000\n",
    "emisiones_evitadas"
   ]
  },
  {
   "cell_type": "markdown",
   "id": "b731eba7",
   "metadata": {},
   "source": [
    "Estaría evitando la generación de **543.228 kgCO₂e** a la atmósfera. Lo que es igual a la captura anual de aproximadamente **46 árboles**.\n",
    "\n",
    "Estas son solamente 2 acciones que se podrían aplicar para poder compensar y disminuir la generación de gases de efecto invernadero, pero estoy seguro de que debe de haber otras formas en las que se podría hacer. "
   ]
  },
  {
   "cell_type": "markdown",
   "id": "5993b393",
   "metadata": {},
   "source": [
    "### Referencias\n",
    "https://sfpya.edomexico.gob.mx/recaudacion/ReadFile.jsp?File=EjemploCalculoEmisionGases.pdf\n",
    "https://www.ipcc-nggip.iges.or.jp/public/2006gl/pdf/2_Volume2/V2_2_Ch2_Stationary_Combustion.pdf\n",
    "https://www.gob.mx/cms/uploads/attachment/file/807500/aviso_fesen_2022.pdf\n",
    "https://www.gob.mx/cms/uploads/attachment/file/809207/lista_combustibles_y_sus_poderes_calorificos_2023.pdf\n",
    "https://ghgprotocol.org/sites/default/files/2023-03/Guia%20C%26P%20Mexico%20V1.0-Spanish.pdf\n",
    "https://www.gob.mx/cms/uploads/attachment/file/681992/105_2020_Metodologia_identificacion_500kw_conexion_a_red.pdf\n",
    "https://autosolar.pe/aspectos-tecnicos/cuantos-kwh-puede-producir-un-panel-solar\n",
    "https://solarama.mx/blog/calcula-cuantos-paneles-solares-instalar-solarama/"
   ]
  },
  {
   "cell_type": "code",
   "execution_count": null,
   "id": "66e7e73a",
   "metadata": {},
   "outputs": [],
   "source": []
  }
 ],
 "metadata": {
  "kernelspec": {
   "display_name": "Python 3 (ipykernel)",
   "language": "python",
   "name": "python3"
  },
  "language_info": {
   "codemirror_mode": {
    "name": "ipython",
    "version": 3
   },
   "file_extension": ".py",
   "mimetype": "text/x-python",
   "name": "python",
   "nbconvert_exporter": "python",
   "pygments_lexer": "ipython3",
   "version": "3.11.5"
  }
 },
 "nbformat": 4,
 "nbformat_minor": 5
}
